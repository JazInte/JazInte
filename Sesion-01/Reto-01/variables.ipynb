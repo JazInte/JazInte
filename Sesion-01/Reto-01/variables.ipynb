{
  "cells": [
    {
      "cell_type": "markdown",
      "metadata": {
        "id": "DxyxYskC0w-w"
      },
      "source": [
        "## Reto 1: Variables\n",
        "\n",
        "### 1. Objetivos:\n",
        "    - Practicar convención de nombramiento y asignación de variables\n",
        "\n",
        "---\n",
        "    \n",
        "### 2. Desarrollo:"
      ]
    },
    {
      "cell_type": "markdown",
      "metadata": {
        "id": "EUmHv9qd0w-2"
      },
      "source": [
        "Indica cuáles nombres de variables son válidos y cuáles con inválidos. Puedes hacerlo colocando un comentario al lado de cada asignación (`# esto es un comentario`). Los comentarios son texto que Python ignora a la hora de correr una celda. Nos sirven para hacer anotaciones."
      ]
    },
    {
      "cell_type": "code",
      "execution_count": null,
      "metadata": {
        "id": "PHA3rNdj0w-3"
      },
      "outputs": [],
      "source": [
        "var_1 = 5 #Valido\n",
        "\n",
        "variable_nueva_2 = 10  #Valida\n",
        "\n",
        "Variable_nueva_3 = 11 #Invalida\n",
        "\n",
        "var_3_1 = 14 #Valida\n",
        "\n",
        "varNueva4 = 44 #Invalida\n",
        "\n",
        "var_nuevaNumero = 98 #Invalida\n",
        "\n",
        "var_num = 22 #Valida\n",
        "\n",
        "VarNum = 11 #Invalida\n",
        "\n",
        "soyUnaVariable = 14 #Invalida"
      ]
    },
    {
      "cell_type": "markdown",
      "metadata": {
        "id": "yt0Nuo6R0w-5"
      },
      "source": [
        "<details><summary>Solución</summary>\n",
        "\n",
        "```python\n",
        "var_1 = 5  # Válida\n",
        "\n",
        "variable_nueva_2 = 10  # Válida\n",
        "\n",
        "Variable_nueva_3 = 11  # Inválida\n",
        "\n",
        "var_3_1 = 14  # Válida\n",
        "\n",
        "varNueva4 = 44  # Inválida\n",
        "\n",
        "var_nuevaNumero = 98  # Inválida\n",
        "\n",
        "var_num = 22  # Válida\n",
        "\n",
        "VarNum = 11  # Inválida\n",
        "\n",
        "soyUnaVariable = 14  # Inválida\n",
        "```\n",
        "\n",
        "</details>"
      ]
    },
    {
      "cell_type": "markdown",
      "metadata": {
        "id": "eMfgfT_80w-5"
      },
      "source": [
        "Ahora practica realizar algunas asignaciones en la celda de abajo. ¡Puedes asignarle a tus variables números enteros y también decimales!"
      ]
    },
    {
      "cell_type": "code",
      "execution_count": null,
      "metadata": {
        "id": "KMOQA6Q50w-6"
      },
      "outputs": [],
      "source": [
        "# Asigna el número 12345 a una variable llamada variable_locochona\n",
        "\n",
        "variable_locochona = 12345\n",
        "\n",
        "# Asigna el número 14.567 a una variable llamada var_decimal\n",
        "\n",
        "var_decimal = 14.567\n",
        "\n",
        "# Asigna cualquier número a una varible que tenga 5 palabras en su nombre (recuerda las convenciones)\n",
        "\n",
        "var_hola_yo_si_no = 98765\n",
        "\n",
        "# Asigna cualquier número a una variable que incluya palabras y números en su nombre\n",
        "\n",
        "variable_10_1 = 29\n",
        "\n",
        "# Asigna variables a discreción\n",
        "\n",
        "# ..."
      ]
    },
    {
      "cell_type": "markdown",
      "metadata": {
        "id": "6KZHxiV50w-7"
      },
      "source": [
        "<details><summary>Solución</summary>\n",
        "\n",
        "```python\n",
        "variable_locochona = 12345\n",
        "\n",
        "var_decimal = 14.567\n",
        "\n",
        "var_hecha_de_cinco_palabras = 5234\n",
        "\n",
        "variable_con_numeros_3_4 = 12342\n",
        "```\n",
        "    \n",
        "</details>"
      ]
    },
    {
      "cell_type": "code",
      "execution_count": null,
      "metadata": {
        "id": "dmchLBM10w-7"
      },
      "outputs": [],
      "source": []
    }
  ],
  "metadata": {
    "kernelspec": {
      "display_name": "Python (data_science)",
      "language": "python",
      "name": "data_science"
    },
    "language_info": {
      "codemirror_mode": {
        "name": "ipython",
        "version": 3
      },
      "file_extension": ".py",
      "mimetype": "text/x-python",
      "name": "python",
      "nbconvert_exporter": "python",
      "pygments_lexer": "ipython3",
      "version": "3.8.5"
    },
    "colab": {
      "provenance": []
    }
  },
  "nbformat": 4,
  "nbformat_minor": 0
}