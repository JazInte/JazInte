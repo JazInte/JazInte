{
  "cells": [
    {
      "cell_type": "markdown",
      "metadata": {
        "id": "ntGl5G7A-dRr"
      },
      "source": [
        "## Reto 4: Operadores de comparación\n",
        "\n",
        "### 1. Objetivos:\n",
        "    - Practicar la comparación de números, strings y booleanos\n",
        "\n",
        "---\n",
        "    \n",
        "### 2. Desarrollo:"
      ]
    },
    {
      "cell_type": "markdown",
      "metadata": {
        "id": "Fxk6sbHt-dRv"
      },
      "source": [
        "A continuación tienes algunas variables que han sido asignadas:"
      ]
    },
    {
      "cell_type": "code",
      "execution_count": null,
      "metadata": {
        "id": "1ajqocTS-dRw"
      },
      "outputs": [],
      "source": [
        "var_1 = 3\n",
        "var_2 = 5\n",
        "var_3 = 9\n",
        "var_4 = 1\n",
        "var_5 = 9\n",
        "var_6 = -6\n",
        "var_7 = 5\n",
        "var_8 = 4"
      ]
    },
    {
      "cell_type": "markdown",
      "metadata": {
        "id": "3BY6oGYZ-dRy"
      },
      "source": [
        "A continuación tienes algunas comparaciones que se encuentran incompletas, junto con el resultado que se espera de dicha comparación. Agrega los `operadores de comparación` adecuados, en medio de las variables, para que al correr las celdas se obtengan los `Resultados esperados`. Para este reto, los operadores `==` y `!=` no están permitidos."
      ]
    },
    {
      "cell_type": "code",
      "execution_count": 1,
      "metadata": {
        "id": "nSN8DTvb-dRy",
        "outputId": "d925836a-32e7-4cff-a154-21b7c63c3702",
        "colab": {
          "base_uri": "https://localhost:8080/",
          "height": 177
        }
      },
      "outputs": [
        {
          "output_type": "error",
          "ename": "NameError",
          "evalue": "ignored",
          "traceback": [
            "\u001b[0;31m---------------------------------------------------------------------------\u001b[0m",
            "\u001b[0;31mNameError\u001b[0m                                 Traceback (most recent call last)",
            "\u001b[0;32m<ipython-input-1-70d43dbc2015>\u001b[0m in \u001b[0;36m<cell line: 1>\u001b[0;34m()\u001b[0m\n\u001b[0;32m----> 1\u001b[0;31m \u001b[0mvar_1\u001b[0m \u001b[0;34m>\u001b[0m \u001b[0mvar_3\u001b[0m  \u001b[0;31m# Resultado esperado: False\u001b[0m\u001b[0;34m\u001b[0m\u001b[0;34m\u001b[0m\u001b[0m\n\u001b[0m",
            "\u001b[0;31mNameError\u001b[0m: name 'var_1' is not defined"
          ]
        }
      ],
      "source": [
        "var_1 > var_3  # Resultado esperado: False"
      ]
    },
    {
      "cell_type": "code",
      "execution_count": null,
      "metadata": {
        "id": "hRT0ERI5-dRz"
      },
      "outputs": [],
      "source": [
        "var_1 > var_4 # Resultado esperado: True"
      ]
    },
    {
      "cell_type": "code",
      "execution_count": null,
      "metadata": {
        "id": "3Ybvkmwo-dR0"
      },
      "outputs": [],
      "source": [
        "var_2 >= var_7  # Resultado esperado: True"
      ]
    },
    {
      "cell_type": "code",
      "execution_count": null,
      "metadata": {
        "id": "DXyuu95G-dR0"
      },
      "outputs": [],
      "source": [
        "var_8 > var_6  # Resultado esperado: True"
      ]
    },
    {
      "cell_type": "code",
      "execution_count": null,
      "metadata": {
        "id": "96HxmeEF-dR1"
      },
      "outputs": [],
      "source": [
        "var_3 > var_5  # Resultado esperado: False"
      ]
    },
    {
      "cell_type": "code",
      "execution_count": null,
      "metadata": {
        "id": "EAblYZg1-dR1"
      },
      "outputs": [],
      "source": [
        "var_1 < var_3  # Resultado esperado: True"
      ]
    },
    {
      "cell_type": "code",
      "execution_count": null,
      "metadata": {
        "id": "6U_I-xSy-dR2"
      },
      "outputs": [],
      "source": [
        "var_5 < var_4  # Resultado esperado: False"
      ]
    },
    {
      "cell_type": "code",
      "execution_count": null,
      "metadata": {
        "id": "L61uLbO4-dR2"
      },
      "outputs": [],
      "source": [
        "var_3 <= var_5  # Resultado esperado: True"
      ]
    },
    {
      "cell_type": "markdown",
      "metadata": {
        "id": "-fZ_1S30-dR2"
      },
      "source": [
        "<details><summary>Solución</summary>\n",
        "\n",
        "```python\n",
        "var_1 > var_3\n",
        "var_1 > var_4\n",
        "var_2 >= var_7\n",
        "var_8 > var_6\n",
        "var_3 > var_5\n",
        "var_1 < var_3\n",
        "var_5 < var_4\n",
        "var_3 <= var_5\n",
        "```\n",
        "    \n",
        "</details>"
      ]
    },
    {
      "cell_type": "code",
      "execution_count": null,
      "metadata": {
        "id": "cgsGgDC4-dR3"
      },
      "outputs": [],
      "source": []
    }
  ],
  "metadata": {
    "kernelspec": {
      "display_name": "Python (data_science)",
      "language": "python",
      "name": "data_science"
    },
    "language_info": {
      "codemirror_mode": {
        "name": "ipython",
        "version": 3
      },
      "file_extension": ".py",
      "mimetype": "text/x-python",
      "name": "python",
      "nbconvert_exporter": "python",
      "pygments_lexer": "ipython3",
      "version": "3.8.5"
    },
    "colab": {
      "provenance": []
    }
  },
  "nbformat": 4,
  "nbformat_minor": 0
}